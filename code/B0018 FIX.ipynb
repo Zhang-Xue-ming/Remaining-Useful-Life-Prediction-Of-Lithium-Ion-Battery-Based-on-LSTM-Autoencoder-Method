{
 "cells": [
  {
   "cell_type": "markdown",
   "metadata": {
    "id": "zs6BAr1Q7-fc"
   },
   "source": [
    "### Multivariate Multistep Time Series Forecasting using Stacked LSTM sequence to sequence Autoencoder in Tensorflow 2.0 / Keras "
   ]
  },
  {
   "cell_type": "code",
   "execution_count": 15,
   "metadata": {
    "id": "cgtE_Cnzhf7s"
   },
   "outputs": [],
   "source": [
    "#plotting and analysis library\n",
    "from sklearn.preprocessing import MinMaxScaler, StandardScaler\n",
    "from sklearn.metrics import mean_squared_error\n",
    "from sklearn.metrics import mean_absolute_error\n",
    "from sklearn import metrics\n",
    "import matplotlib.pyplot as plt\n",
    "import seaborn as sns\n",
    "import datetime\n",
    "import numpy as np\n",
    "import pandas as pd\n",
    "#model library\n",
    "import numpy as np\n",
    "from keras.models import Sequential\n",
    "from keras.layers import Dense\n",
    "from keras.layers import Flatten\n",
    "from keras.layers import LSTM, Input, Dropout\n",
    "from keras.layers import RepeatVector\n",
    "from keras.layers import TimeDistributed\n",
    "import tensorflow as tf\n",
    "from tensorflow import keras\n",
    "from tensorflow.keras.regularizers import L1L2\n",
    "import time\n",
    "from scipy.stats import spearmanr"
   ]
  },
  {
   "cell_type": "code",
   "execution_count": 16,
   "metadata": {},
   "outputs": [],
   "source": [
    "df=pd.read_csv(\"Discharge18_H1.csv\")\n",
    "attrib=['name','cycle','datetime','ambient_temp','capacity','voltage_measured','current_measured','temperature_measured','time','TIEDVD']\n",
    "attrib1=['name','cycle','datetime','ambient_temp','capacity','voltage_measured','current_measured','temperature_measured','time']\n",
    "param = ['TIEDVD']\n",
    "dataset_f=df[param]"
   ]
  },
  {
   "cell_type": "code",
   "execution_count": 17,
   "metadata": {},
   "outputs": [
    {
     "data": {
      "text/html": [
       "<div>\n",
       "<style scoped>\n",
       "    .dataframe tbody tr th:only-of-type {\n",
       "        vertical-align: middle;\n",
       "    }\n",
       "\n",
       "    .dataframe tbody tr th {\n",
       "        vertical-align: top;\n",
       "    }\n",
       "\n",
       "    .dataframe thead th {\n",
       "        text-align: right;\n",
       "    }\n",
       "</style>\n",
       "<table border=\"1\" class=\"dataframe\">\n",
       "  <thead>\n",
       "    <tr style=\"text-align: right;\">\n",
       "      <th></th>\n",
       "      <th>cycle</th>\n",
       "      <th>ambient_temp</th>\n",
       "      <th>capacity</th>\n",
       "      <th>voltage_measured</th>\n",
       "      <th>current_measured</th>\n",
       "      <th>temperature_measured</th>\n",
       "      <th>time</th>\n",
       "    </tr>\n",
       "  </thead>\n",
       "  <tbody>\n",
       "    <tr>\n",
       "      <th>count</th>\n",
       "      <td>132.000000</td>\n",
       "      <td>132.0</td>\n",
       "      <td>132.000000</td>\n",
       "      <td>132.000000</td>\n",
       "      <td>132.000000</td>\n",
       "      <td>132.000000</td>\n",
       "      <td>132.000000</td>\n",
       "    </tr>\n",
       "    <tr>\n",
       "      <th>mean</th>\n",
       "      <td>66.500000</td>\n",
       "      <td>24.0</td>\n",
       "      <td>1.557701</td>\n",
       "      <td>3.391308</td>\n",
       "      <td>0.000042</td>\n",
       "      <td>34.745895</td>\n",
       "      <td>3069.074083</td>\n",
       "    </tr>\n",
       "    <tr>\n",
       "      <th>std</th>\n",
       "      <td>38.249183</td>\n",
       "      <td>0.0</td>\n",
       "      <td>0.154885</td>\n",
       "      <td>0.109796</td>\n",
       "      <td>0.002149</td>\n",
       "      <td>0.712094</td>\n",
       "      <td>220.797987</td>\n",
       "    </tr>\n",
       "    <tr>\n",
       "      <th>min</th>\n",
       "      <td>1.000000</td>\n",
       "      <td>24.0</td>\n",
       "      <td>1.341051</td>\n",
       "      <td>3.053230</td>\n",
       "      <td>-0.005027</td>\n",
       "      <td>33.476207</td>\n",
       "      <td>2742.843000</td>\n",
       "    </tr>\n",
       "    <tr>\n",
       "      <th>25%</th>\n",
       "      <td>33.750000</td>\n",
       "      <td>24.0</td>\n",
       "      <td>1.415288</td>\n",
       "      <td>3.344994</td>\n",
       "      <td>-0.001120</td>\n",
       "      <td>34.298066</td>\n",
       "      <td>2849.175500</td>\n",
       "    </tr>\n",
       "    <tr>\n",
       "      <th>50%</th>\n",
       "      <td>66.500000</td>\n",
       "      <td>24.0</td>\n",
       "      <td>1.531892</td>\n",
       "      <td>3.439648</td>\n",
       "      <td>0.000051</td>\n",
       "      <td>34.609575</td>\n",
       "      <td>3047.875000</td>\n",
       "    </tr>\n",
       "    <tr>\n",
       "      <th>75%</th>\n",
       "      <td>99.250000</td>\n",
       "      <td>24.0</td>\n",
       "      <td>1.684936</td>\n",
       "      <td>3.464229</td>\n",
       "      <td>0.001336</td>\n",
       "      <td>34.921666</td>\n",
       "      <td>3270.745750</td>\n",
       "    </tr>\n",
       "    <tr>\n",
       "      <th>max</th>\n",
       "      <td>132.000000</td>\n",
       "      <td>24.0</td>\n",
       "      <td>1.855005</td>\n",
       "      <td>3.504583</td>\n",
       "      <td>0.009113</td>\n",
       "      <td>37.205671</td>\n",
       "      <td>3434.891000</td>\n",
       "    </tr>\n",
       "  </tbody>\n",
       "</table>\n",
       "</div>"
      ],
      "text/plain": [
       "            cycle  ambient_temp    capacity  voltage_measured  \\\n",
       "count  132.000000         132.0  132.000000        132.000000   \n",
       "mean    66.500000          24.0    1.557701          3.391308   \n",
       "std     38.249183           0.0    0.154885          0.109796   \n",
       "min      1.000000          24.0    1.341051          3.053230   \n",
       "25%     33.750000          24.0    1.415288          3.344994   \n",
       "50%     66.500000          24.0    1.531892          3.439648   \n",
       "75%     99.250000          24.0    1.684936          3.464229   \n",
       "max    132.000000          24.0    1.855005          3.504583   \n",
       "\n",
       "       current_measured  temperature_measured         time  \n",
       "count        132.000000            132.000000   132.000000  \n",
       "mean           0.000042             34.745895  3069.074083  \n",
       "std            0.002149              0.712094   220.797987  \n",
       "min           -0.005027             33.476207  2742.843000  \n",
       "25%           -0.001120             34.298066  2849.175500  \n",
       "50%            0.000051             34.609575  3047.875000  \n",
       "75%            0.001336             34.921666  3270.745750  \n",
       "max            0.009113             37.205671  3434.891000  "
      ]
     },
     "execution_count": 17,
     "metadata": {},
     "output_type": "execute_result"
    }
   ],
   "source": [
    "dataset_df1 = df[attrib1]\n",
    "dataset_df1.describe()"
   ]
  },
  {
   "cell_type": "code",
   "execution_count": 18,
   "metadata": {},
   "outputs": [
    {
     "name": "stdout",
     "output_type": "stream",
     "text": [
      "0.998690341398256\n",
      "1.0195971258610914e-169\n"
     ]
    }
   ],
   "source": [
    "spearman_df = df[['capacity', 'TIEDVD']]\n",
    "rho, p = spearmanr(spearman_df)\n",
    "print (rho)\n",
    "print(p)"
   ]
  },
  {
   "cell_type": "code",
   "execution_count": 19,
   "metadata": {
    "scrolled": true
   },
   "outputs": [
    {
     "data": {
      "text/html": [
       "<div>\n",
       "<style scoped>\n",
       "    .dataframe tbody tr th:only-of-type {\n",
       "        vertical-align: middle;\n",
       "    }\n",
       "\n",
       "    .dataframe tbody tr th {\n",
       "        vertical-align: top;\n",
       "    }\n",
       "\n",
       "    .dataframe thead th {\n",
       "        text-align: right;\n",
       "    }\n",
       "</style>\n",
       "<table border=\"1\" class=\"dataframe\">\n",
       "  <thead>\n",
       "    <tr style=\"text-align: right;\">\n",
       "      <th></th>\n",
       "      <th>cycle</th>\n",
       "      <th>ambient_temp</th>\n",
       "      <th>capacity</th>\n",
       "      <th>voltage_measured</th>\n",
       "      <th>current_measured</th>\n",
       "      <th>temperature_measured</th>\n",
       "      <th>time</th>\n",
       "    </tr>\n",
       "  </thead>\n",
       "  <tbody>\n",
       "    <tr>\n",
       "      <th>cycle</th>\n",
       "      <td>1.00</td>\n",
       "      <td>NaN</td>\n",
       "      <td>-0.97</td>\n",
       "      <td>0.79</td>\n",
       "      <td>0.04</td>\n",
       "      <td>-0.43</td>\n",
       "      <td>-0.98</td>\n",
       "    </tr>\n",
       "    <tr>\n",
       "      <th>ambient_temp</th>\n",
       "      <td>NaN</td>\n",
       "      <td>NaN</td>\n",
       "      <td>NaN</td>\n",
       "      <td>NaN</td>\n",
       "      <td>NaN</td>\n",
       "      <td>NaN</td>\n",
       "      <td>NaN</td>\n",
       "    </tr>\n",
       "    <tr>\n",
       "      <th>capacity</th>\n",
       "      <td>-0.97</td>\n",
       "      <td>NaN</td>\n",
       "      <td>1.00</td>\n",
       "      <td>-0.89</td>\n",
       "      <td>-0.06</td>\n",
       "      <td>0.50</td>\n",
       "      <td>0.99</td>\n",
       "    </tr>\n",
       "    <tr>\n",
       "      <th>voltage_measured</th>\n",
       "      <td>0.79</td>\n",
       "      <td>NaN</td>\n",
       "      <td>-0.89</td>\n",
       "      <td>1.00</td>\n",
       "      <td>0.14</td>\n",
       "      <td>-0.74</td>\n",
       "      <td>-0.83</td>\n",
       "    </tr>\n",
       "    <tr>\n",
       "      <th>current_measured</th>\n",
       "      <td>0.04</td>\n",
       "      <td>NaN</td>\n",
       "      <td>-0.06</td>\n",
       "      <td>0.14</td>\n",
       "      <td>1.00</td>\n",
       "      <td>-0.17</td>\n",
       "      <td>-0.04</td>\n",
       "    </tr>\n",
       "    <tr>\n",
       "      <th>temperature_measured</th>\n",
       "      <td>-0.43</td>\n",
       "      <td>NaN</td>\n",
       "      <td>0.50</td>\n",
       "      <td>-0.74</td>\n",
       "      <td>-0.17</td>\n",
       "      <td>1.00</td>\n",
       "      <td>0.42</td>\n",
       "    </tr>\n",
       "    <tr>\n",
       "      <th>time</th>\n",
       "      <td>-0.98</td>\n",
       "      <td>NaN</td>\n",
       "      <td>0.99</td>\n",
       "      <td>-0.83</td>\n",
       "      <td>-0.04</td>\n",
       "      <td>0.42</td>\n",
       "      <td>1.00</td>\n",
       "    </tr>\n",
       "  </tbody>\n",
       "</table>\n",
       "</div>"
      ],
      "text/plain": [
       "                      cycle  ambient_temp  capacity  voltage_measured  \\\n",
       "cycle                  1.00           NaN     -0.97              0.79   \n",
       "ambient_temp            NaN           NaN       NaN               NaN   \n",
       "capacity              -0.97           NaN      1.00             -0.89   \n",
       "voltage_measured       0.79           NaN     -0.89              1.00   \n",
       "current_measured       0.04           NaN     -0.06              0.14   \n",
       "temperature_measured  -0.43           NaN      0.50             -0.74   \n",
       "time                  -0.98           NaN      0.99             -0.83   \n",
       "\n",
       "                      current_measured  temperature_measured  time  \n",
       "cycle                             0.04                 -0.43 -0.98  \n",
       "ambient_temp                       NaN                   NaN   NaN  \n",
       "capacity                         -0.06                  0.50  0.99  \n",
       "voltage_measured                  0.14                 -0.74 -0.83  \n",
       "current_measured                  1.00                 -0.17 -0.04  \n",
       "temperature_measured             -0.17                  1.00  0.42  \n",
       "time                             -0.04                  0.42  1.00  "
      ]
     },
     "execution_count": 19,
     "metadata": {},
     "output_type": "execute_result"
    }
   ],
   "source": [
    "corr = dataset_df1.corr()\n",
    "round(corr,2)"
   ]
  },
  {
   "cell_type": "code",
   "execution_count": 20,
   "metadata": {},
   "outputs": [],
   "source": [
    "sns.heatmap(corr, cbar=True, annot=True, square=True, fmt='.2f', annot_kws={'size': 8});"
   ]
  },
  {
   "cell_type": "code",
   "execution_count": 21,
   "metadata": {},
   "outputs": [
    {
     "data": {
      "text/html": [
       "<div>\n",
       "<style scoped>\n",
       "    .dataframe tbody tr th:only-of-type {\n",
       "        vertical-align: middle;\n",
       "    }\n",
       "\n",
       "    .dataframe tbody tr th {\n",
       "        vertical-align: top;\n",
       "    }\n",
       "\n",
       "    .dataframe thead th {\n",
       "        text-align: right;\n",
       "    }\n",
       "</style>\n",
       "<table border=\"1\" class=\"dataframe\">\n",
       "  <thead>\n",
       "    <tr style=\"text-align: right;\">\n",
       "      <th></th>\n",
       "      <th>cycle</th>\n",
       "      <th>ambient_temp</th>\n",
       "      <th>capacity</th>\n",
       "      <th>voltage_measured</th>\n",
       "      <th>current_measured</th>\n",
       "      <th>temperature_measured</th>\n",
       "      <th>time</th>\n",
       "      <th>TIEDVD</th>\n",
       "    </tr>\n",
       "  </thead>\n",
       "  <tbody>\n",
       "    <tr>\n",
       "      <th>count</th>\n",
       "      <td>132.000000</td>\n",
       "      <td>132.0</td>\n",
       "      <td>132.000000</td>\n",
       "      <td>132.000000</td>\n",
       "      <td>132.000000</td>\n",
       "      <td>132.000000</td>\n",
       "      <td>132.000000</td>\n",
       "      <td>132.000000</td>\n",
       "    </tr>\n",
       "    <tr>\n",
       "      <th>mean</th>\n",
       "      <td>66.500000</td>\n",
       "      <td>24.0</td>\n",
       "      <td>1.557701</td>\n",
       "      <td>3.391308</td>\n",
       "      <td>0.000042</td>\n",
       "      <td>34.745895</td>\n",
       "      <td>3069.074083</td>\n",
       "      <td>1745.371985</td>\n",
       "    </tr>\n",
       "    <tr>\n",
       "      <th>std</th>\n",
       "      <td>38.249183</td>\n",
       "      <td>0.0</td>\n",
       "      <td>0.154885</td>\n",
       "      <td>0.109796</td>\n",
       "      <td>0.002149</td>\n",
       "      <td>0.712094</td>\n",
       "      <td>220.797987</td>\n",
       "      <td>351.400692</td>\n",
       "    </tr>\n",
       "    <tr>\n",
       "      <th>min</th>\n",
       "      <td>1.000000</td>\n",
       "      <td>24.0</td>\n",
       "      <td>1.341051</td>\n",
       "      <td>3.053230</td>\n",
       "      <td>-0.005027</td>\n",
       "      <td>33.476207</td>\n",
       "      <td>2742.843000</td>\n",
       "      <td>1262.609000</td>\n",
       "    </tr>\n",
       "    <tr>\n",
       "      <th>25%</th>\n",
       "      <td>33.750000</td>\n",
       "      <td>24.0</td>\n",
       "      <td>1.415288</td>\n",
       "      <td>3.344994</td>\n",
       "      <td>-0.001120</td>\n",
       "      <td>34.298066</td>\n",
       "      <td>2849.175500</td>\n",
       "      <td>1418.316000</td>\n",
       "    </tr>\n",
       "    <tr>\n",
       "      <th>50%</th>\n",
       "      <td>66.500000</td>\n",
       "      <td>24.0</td>\n",
       "      <td>1.531892</td>\n",
       "      <td>3.439648</td>\n",
       "      <td>0.000051</td>\n",
       "      <td>34.609575</td>\n",
       "      <td>3047.875000</td>\n",
       "      <td>1697.219000</td>\n",
       "    </tr>\n",
       "    <tr>\n",
       "      <th>75%</th>\n",
       "      <td>99.250000</td>\n",
       "      <td>24.0</td>\n",
       "      <td>1.684936</td>\n",
       "      <td>3.464229</td>\n",
       "      <td>0.001336</td>\n",
       "      <td>34.921666</td>\n",
       "      <td>3270.745750</td>\n",
       "      <td>2039.668250</td>\n",
       "    </tr>\n",
       "    <tr>\n",
       "      <th>max</th>\n",
       "      <td>132.000000</td>\n",
       "      <td>24.0</td>\n",
       "      <td>1.855005</td>\n",
       "      <td>3.504583</td>\n",
       "      <td>0.009113</td>\n",
       "      <td>37.205671</td>\n",
       "      <td>3434.891000</td>\n",
       "      <td>2357.547000</td>\n",
       "    </tr>\n",
       "  </tbody>\n",
       "</table>\n",
       "</div>"
      ],
      "text/plain": [
       "            cycle  ambient_temp    capacity  voltage_measured  \\\n",
       "count  132.000000         132.0  132.000000        132.000000   \n",
       "mean    66.500000          24.0    1.557701          3.391308   \n",
       "std     38.249183           0.0    0.154885          0.109796   \n",
       "min      1.000000          24.0    1.341051          3.053230   \n",
       "25%     33.750000          24.0    1.415288          3.344994   \n",
       "50%     66.500000          24.0    1.531892          3.439648   \n",
       "75%     99.250000          24.0    1.684936          3.464229   \n",
       "max    132.000000          24.0    1.855005          3.504583   \n",
       "\n",
       "       current_measured  temperature_measured         time       TIEDVD  \n",
       "count        132.000000            132.000000   132.000000   132.000000  \n",
       "mean           0.000042             34.745895  3069.074083  1745.371985  \n",
       "std            0.002149              0.712094   220.797987   351.400692  \n",
       "min           -0.005027             33.476207  2742.843000  1262.609000  \n",
       "25%           -0.001120             34.298066  2849.175500  1418.316000  \n",
       "50%            0.000051             34.609575  3047.875000  1697.219000  \n",
       "75%            0.001336             34.921666  3270.745750  2039.668250  \n",
       "max            0.009113             37.205671  3434.891000  2357.547000  "
      ]
     },
     "execution_count": 21,
     "metadata": {},
     "output_type": "execute_result"
    }
   ],
   "source": [
    "dataset_df =  df[attrib]\n",
    "dataset_df.describe()"
   ]
  },
  {
   "cell_type": "code",
   "execution_count": 22,
   "metadata": {},
   "outputs": [
    {
     "name": "stdout",
     "output_type": "stream",
     "text": [
      "0.998690341398256\n",
      "1.0195971258610914e-169\n"
     ]
    }
   ],
   "source": [
    "spearman_df = dataset_df[['capacity', 'TIEDVD']]\n",
    "rho, p = spearmanr(spearman_df)\n",
    "print (rho)\n",
    "print(p)"
   ]
  },
  {
   "cell_type": "code",
   "execution_count": 23,
   "metadata": {},
   "outputs": [],
   "source": [
    "plt.scatter(dataset_df[['capacity']], dataset_df[['TIEDVD']])\n",
    "plt.ylabel('TIEDVD')\n",
    "plt.xlabel('Capacity')\n",
    "plt.show()"
   ]
  },
  {
   "cell_type": "code",
   "execution_count": 24,
   "metadata": {},
   "outputs": [],
   "source": [
    "plt.scatter(dataset_df[['cycle']], dataset_df[['capacity']])\n",
    "plt.ylabel('Capacity')\n",
    "plt.xlabel('cycle')\n",
    "plt.show()"
   ]
  },
  {
   "cell_type": "code",
   "execution_count": 25,
   "metadata": {},
   "outputs": [
    {
     "data": {
      "text/plain": [
       "Text(0.5, 1.0, 'Kurva Indirect Health Indicator Baterai B0018')"
      ]
     },
     "execution_count": 25,
     "metadata": {},
     "output_type": "execute_result"
    }
   ],
   "source": [
    "%matplotlib qt\n",
    "plot_df = df.loc[(df['cycle']>=1),['cycle','TIEDVD']]\n",
    "sns.set_style(\"white\")\n",
    "plt.figure(figsize=(10, 5))\n",
    "plt.plot(plot_df['cycle'], plot_df['TIEDVD'], label=\"Real data\", color='black')\n",
    "plt.ylabel('TIEDVD', family='serif',fontsize=16)\n",
    "# make x-axis ticks legible\n",
    "adf = plt.gca().get_xaxis().get_major_formatter()\n",
    "plt.xlabel('Siklus', family='serif',fontsize=16)\n",
    "plt.title('Kurva Indirect Health Indicator Baterai B0018', family='serif',fontsize=20)"
   ]
  },
  {
   "cell_type": "code",
   "execution_count": 26,
   "metadata": {},
   "outputs": [
    {
     "name": "stdout",
     "output_type": "stream",
     "text": [
      "[4.40230567e-04 7.89334660e-01]\n"
     ]
    }
   ],
   "source": [
    "datas_cap=df['capacity']\n",
    "datas_TIEDVD=df['TIEDVD']\n",
    "z=np.polyfit(datas_TIEDVD,datas_cap,1)\n",
    "print(z)\n",
    "l1=[]\n",
    "for i in range(len(datas_TIEDVD)):\n",
    "    xx=(z[0] * datas_TIEDVD[i])+z[1]\n",
    "    l1.append(xx)\n",
    "df['fit']=l1"
   ]
  },
  {
   "cell_type": "code",
   "execution_count": 27,
   "metadata": {},
   "outputs": [
    {
     "data": {
      "text/plain": [
       "Text(0.5, 1.0, 'Mapping')"
      ]
     },
     "execution_count": 27,
     "metadata": {},
     "output_type": "execute_result"
    }
   ],
   "source": [
    "plot_df = df.loc[(df['cycle']>=1),['cycle','capacity']]\n",
    "plot_df1 = df.loc[(df['cycle']>=1),['cycle','fit']]\n",
    "\n",
    "sns.set_style(\"white\")\n",
    "plt.figure(figsize=(10, 5))\n",
    "plt.plot(plot_df['cycle'], plot_df['capacity'],color='red')\n",
    "plt.plot(plot_df1['cycle'], plot_df1['fit'],'-',color='blue')\n",
    "\n",
    "plt.ylabel('Capacity', family='serif', fontsize=16)\n",
    "plt.rc('xtick', labelsize=14) \n",
    "plt.rc('ytick', labelsize=14) \n",
    "# make x-axis ticks legible\n",
    "adf = plt.gca().get_xaxis().get_major_formatter()\n",
    "#adf.scaled[1.0] = '%m-%d-%Y'\n",
    "plt.xlabel('Cycle',family='serif', fontsize=16)\n",
    "plt.title('Mapping',family='serif', fontsize=20)"
   ]
  },
  {
   "cell_type": "code",
   "execution_count": 28,
   "metadata": {},
   "outputs": [
    {
     "data": {
      "text/plain": [
       "Text(0.5, 1.0, 'Degradasi Baterai B0018')"
      ]
     },
     "execution_count": 28,
     "metadata": {},
     "output_type": "execute_result"
    }
   ],
   "source": [
    "plot_df = df.loc[(df['cycle']>=1),['cycle','capacity']]\n",
    "sns.set_style(\"white\")\n",
    "plt.figure(figsize=(10, 5))\n",
    "plt.plot(plot_df['cycle'], plot_df['capacity'], label=\"Real data\", color='black')\n",
    "plt.rc('xtick', labelsize=14) \n",
    "plt.rc('ytick', labelsize=14) \n",
    "#Draw threshold\n",
    "plt.plot([0.,168], [1.4, 1.4], color='red')\n",
    "plt.ylabel('Kapasitas',family='serif',fontsize=16)\n",
    "# make x-axis ticks legible\n",
    "adf = plt.gca().get_xaxis().get_major_formatter()\n",
    "plt.xlabel('Siklus', family='serif',fontsize=16)\n",
    "plt.title('Degradasi Baterai B0018',family='serif', fontsize=20)"
   ]
  },
  {
   "cell_type": "code",
   "execution_count": 29,
   "metadata": {
    "id": "95DRaJDAiAzj"
   },
   "outputs": [],
   "source": [
    "# For this case, let's assume that\n",
    "# Given past 10 days observation, forecast the next 5 days observations. \n",
    "n_past = 5\n",
    "n_future = 1 \n",
    "n_features = 1"
   ]
  },
  {
   "cell_type": "markdown",
   "metadata": {
    "id": "2KGQDB93mjqy"
   },
   "source": [
    "Train - Test Split"
   ]
  },
  {
   "cell_type": "code",
   "execution_count": 30,
   "metadata": {
    "colab": {
     "base_uri": "https://localhost:8080/",
     "height": 34
    },
    "id": "2iHDBSbu8tVu",
    "outputId": "2bb457d0-2bf2-49f6-8a60-20dd8376359e"
   },
   "outputs": [
    {
     "data": {
      "text/plain": [
       "((72, 1), (60, 1))"
      ]
     },
     "execution_count": 30,
     "metadata": {},
     "output_type": "execute_result"
    }
   ],
   "source": [
    "l_train = 72\n",
    "train_df,test_df = dataset_f[0:l_train], dataset_f[l_train:]  # 50% and 50%\n",
    "train_df.shape,test_df.shape"
   ]
  },
  {
   "cell_type": "markdown",
   "metadata": {
    "id": "lk2FYkUcmtDc"
   },
   "source": [
    "Scaling the values for faster training of the models."
   ]
  },
  {
   "cell_type": "code",
   "execution_count": 31,
   "metadata": {
    "colab": {
     "base_uri": "https://localhost:8080/",
     "height": 1000
    },
    "id": "cIVnPiBaB9pG",
    "outputId": "acdaad3d-4f60-4c62-a62c-3f4e41f70685"
   },
   "outputs": [
    {
     "name": "stderr",
     "output_type": "stream",
     "text": [
      "C:\\Users\\user\\AppData\\Local\\Temp\\ipykernel_19280\\3260478294.py:9: SettingWithCopyWarning: \n",
      "A value is trying to be set on a copy of a slice from a DataFrame.\n",
      "Try using .loc[row_indexer,col_indexer] = value instead\n",
      "\n",
      "See the caveats in the documentation: https://pandas.pydata.org/pandas-docs/stable/user_guide/indexing.html#returning-a-view-versus-a-copy\n",
      "  train[i]=s_s\n",
      "C:\\Users\\user\\AppData\\Local\\Temp\\ipykernel_19280\\3260478294.py:17: SettingWithCopyWarning: \n",
      "A value is trying to be set on a copy of a slice from a DataFrame.\n",
      "Try using .loc[row_indexer,col_indexer] = value instead\n",
      "\n",
      "See the caveats in the documentation: https://pandas.pydata.org/pandas-docs/stable/user_guide/indexing.html#returning-a-view-versus-a-copy\n",
      "  test[i]=s_s\n"
     ]
    }
   ],
   "source": [
    "train = train_df\n",
    "scalers={}\n",
    "\n",
    "for i in train_df.columns:\n",
    "    scaler = MinMaxScaler(feature_range=(-1,1))\n",
    "    s_s = scaler.fit_transform(train[i].values.reshape(-1,1))\n",
    "    s_s=np.reshape(s_s,len(s_s))\n",
    "    scalers['scaler_'+ i] = scaler\n",
    "    train[i]=s_s\n",
    "\n",
    "test = test_df\n",
    "for i in train_df.columns:\n",
    "    scaler = scalers['scaler_'+i]\n",
    "    s_s = scaler.transform(test[i].values.reshape(-1,1))\n",
    "    s_s=np.reshape(s_s,len(s_s))\n",
    "    scalers['scaler_'+i] = scaler\n",
    "    test[i]=s_s"
   ]
  },
  {
   "cell_type": "markdown",
   "metadata": {
    "id": "OqWTUZGHm1tm"
   },
   "source": [
    "**Converting the series to samples for supervised learning**"
   ]
  },
  {
   "cell_type": "code",
   "execution_count": 32,
   "metadata": {
    "id": "6axUcusZhvzK"
   },
   "outputs": [],
   "source": [
    "def split_series(series, n_past, n_future):\n",
    "  #\n",
    "  # n_past ==> no of past observations\n",
    "  #\n",
    "  # n_future ==> no of future observations \n",
    "  #\n",
    "  X, y = list(), list()\n",
    "  for window_start in range(len(series)):\n",
    "    past_end = window_start + n_past\n",
    "    future_end = past_end + n_future\n",
    "    if future_end > len(series):\n",
    "      break\n",
    "    # slicing the past and future parts of the window\n",
    "    past, future = series[window_start:past_end, :], series[past_end:future_end, :]\n",
    "    X.append(past)\n",
    "    y.append(future)\n",
    "  return np.array(X), np.array(y)"
   ]
  },
  {
   "cell_type": "code",
   "execution_count": 33,
   "metadata": {
    "id": "BOHlFWgVidl_"
   },
   "outputs": [],
   "source": [
    "X_train, y_train = split_series(train.values,n_past, n_future)\n",
    "X_train = X_train.reshape((X_train.shape[0], X_train.shape[1],n_features))\n",
    "y_train = y_train.reshape((y_train.shape[0], y_train.shape[1], n_features))\n",
    "\n",
    "X_test, y_test = split_series(test.values,n_past, n_future)\n",
    "X_test = X_test.reshape((X_test.shape[0], X_test.shape[1],n_features))\n",
    "y_test = y_test.reshape((y_test.shape[0], y_test.shape[1], n_features))"
   ]
  },
  {
   "cell_type": "markdown",
   "metadata": {
    "id": "X2rRUBjbnJij"
   },
   "source": [
    "**Model Architecture**\n",
    "\n",
    "E2D2 ==> Sequence to Sequence Model with two encoder layers and two decoder layers. "
   ]
  },
  {
   "cell_type": "code",
   "execution_count": 34,
   "metadata": {
    "colab": {
     "base_uri": "https://localhost:8080/",
     "height": 474
    },
    "id": "ze7iac48h1JV",
    "outputId": "0bd65cde-5030-43bc-8904-2f4cef396158"
   },
   "outputs": [
    {
     "name": "stdout",
     "output_type": "stream",
     "text": [
      "Model: \"model\"\n",
      "__________________________________________________________________________________________________\n",
      " Layer (type)                   Output Shape         Param #     Connected to                     \n",
      "==================================================================================================\n",
      " input_1 (InputLayer)           [(None, 5, 1)]       0           []                               \n",
      "                                                                                                  \n",
      " lstm (LSTM)                    [(None, 5, 300),     362400      ['input_1[0][0]']                \n",
      "                                 (None, 300),                                                     \n",
      "                                 (None, 300)]                                                     \n",
      "                                                                                                  \n",
      " lstm_1 (LSTM)                  [(None, 300),        721200      ['lstm[0][0]']                   \n",
      "                                 (None, 300),                                                     \n",
      "                                 (None, 300)]                                                     \n",
      "                                                                                                  \n",
      " repeat_vector (RepeatVector)   (None, 1, 300)       0           ['lstm_1[0][0]']                 \n",
      "                                                                                                  \n",
      " lstm_2 (LSTM)                  (None, 1, 300)       721200      ['repeat_vector[0][0]',          \n",
      "                                                                  'lstm[0][1]',                   \n",
      "                                                                  'lstm[0][2]']                   \n",
      "                                                                                                  \n",
      " lstm_3 (LSTM)                  (None, 1, 300)       721200      ['lstm_2[0][0]',                 \n",
      "                                                                  'lstm_1[0][1]',                 \n",
      "                                                                  'lstm_1[0][2]']                 \n",
      "                                                                                                  \n",
      " time_distributed (TimeDistribu  (None, 1, 1)        301         ['lstm_3[0][0]']                 \n",
      " ted)                                                                                             \n",
      "                                                                                                  \n",
      "==================================================================================================\n",
      "Total params: 2,526,301\n",
      "Trainable params: 2,526,301\n",
      "Non-trainable params: 0\n",
      "__________________________________________________________________________________________________\n"
     ]
    }
   ],
   "source": [
    "# E2D2\n",
    "# n_features ==> no of features at each timestep in the data.\n",
    "#\n",
    "encoder_inputs = tf.keras.layers.Input(shape=(n_past, n_features))\n",
    "encoder_l1 = tf.keras.layers.LSTM(300, return_sequences = True, return_state=True)\n",
    "encoder_outputs1 = encoder_l1(encoder_inputs)\n",
    "encoder_states1 = encoder_outputs1[1:]\n",
    "encoder_l2 = tf.keras.layers.LSTM(300, return_state=True)\n",
    "encoder_outputs2 = encoder_l2(encoder_outputs1[0])\n",
    "encoder_states2 = encoder_outputs2[1:]\n",
    "#\n",
    "decoder_inputs = tf.keras.layers.RepeatVector(n_future)(encoder_outputs2[0])\n",
    "#\n",
    "decoder_l1 = tf.keras.layers.LSTM(300, return_sequences=True)(decoder_inputs,initial_state = encoder_states1)\n",
    "decoder_l2 = tf.keras.layers.LSTM(300, return_sequences=True)(decoder_l1,initial_state = encoder_states2)\n",
    "decoder_outputs2 = tf.keras.layers.TimeDistributed(tf.keras.layers.Dense(n_features))(decoder_l2)\n",
    "#\n",
    "model_e2d2 = tf.keras.models.Model(encoder_inputs,decoder_outputs2)\n",
    "#\n",
    "model_e2d2.summary()"
   ]
  },
  {
   "cell_type": "markdown",
   "metadata": {
    "id": "1Q0prbvcnq6W"
   },
   "source": [
    " **Training the models**\n"
   ]
  },
  {
   "cell_type": "code",
   "execution_count": 35,
   "metadata": {
    "id": "L4Ee4kb5HuzM"
   },
   "outputs": [],
   "source": [
    "st = time.time()\n",
    "reduce_lr = tf.keras.callbacks.LearningRateScheduler(lambda x: 1e-3 * 0.90 ** x)\n",
    "\n",
    "model_e2d2.compile(optimizer=tf.keras.optimizers.Adam(), loss=tf.keras.losses.Huber())\n",
    "history_e2d2=model_e2d2.fit(X_train,y_train,epochs=200,validation_data=(X_test,y_test),batch_size=32,callbacks=[reduce_lr], verbose=0)"
   ]
  },
  {
   "cell_type": "code",
   "execution_count": 36,
   "metadata": {},
   "outputs": [
    {
     "name": "stdout",
     "output_type": "stream",
     "text": [
      "Execution time: 27.085 seconds\n"
     ]
    }
   ],
   "source": [
    "et = time.time()\n",
    "elapsed_time = et - st\n",
    "print('Execution time: %.3f'% elapsed_time, 'seconds')"
   ]
  },
  {
   "cell_type": "code",
   "execution_count": 37,
   "metadata": {
    "colab": {
     "base_uri": "https://localhost:8080/",
     "height": 295
    },
    "id": "At-5JNsJI2lJ",
    "outputId": "ed265658-c8c8-459e-9702-d243cc944282"
   },
   "outputs": [],
   "source": [
    "plt.plot(history_e2d2.history['loss'])\n",
    "plt.plot(history_e2d2.history['val_loss'])\n",
    "plt.title(\"Model Loss\")\n",
    "plt.xlabel('Epochs')\n",
    "plt.ylabel('Loss')\n",
    "plt.legend(['Train', 'Valid'])\n",
    "plt.show()"
   ]
  },
  {
   "cell_type": "markdown",
   "metadata": {
    "id": "QisYSkLCoJuC"
   },
   "source": [
    "Prediction on validation set"
   ]
  },
  {
   "cell_type": "code",
   "execution_count": 38,
   "metadata": {},
   "outputs": [],
   "source": [
    "data_total=pd.concat((train,test),axis=0)\n",
    "inputs=data_total[len(data_total)-len(test)-n_past:].values"
   ]
  },
  {
   "cell_type": "code",
   "execution_count": 39,
   "metadata": {},
   "outputs": [],
   "source": [
    "X_test=[]\n",
    "for i in range(n_past,len(inputs)):\n",
    "    X_test.append(inputs[i-n_past:i,0])\n",
    "X_test=np.array(X_test)\n",
    "X_test=np.reshape(X_test,(X_test.shape[0],X_test.shape[1],1))"
   ]
  },
  {
   "cell_type": "code",
   "execution_count": 40,
   "metadata": {
    "id": "TeRz6saSJASa"
   },
   "outputs": [],
   "source": [
    "pred=model_e2d2.predict(X_test)\n",
    "for index,i in enumerate(train_df.columns):\n",
    "    scaler = scalers['scaler_'+i]\n",
    "   \n",
    "    pred[:,:,index]=scaler.inverse_transform(pred[:,:,index])\n",
    "pred=pred.reshape(len(X_test),-1)\n",
    "pred=pred[:,0]"
   ]
  },
  {
   "cell_type": "code",
   "execution_count": 41,
   "metadata": {},
   "outputs": [
    {
     "data": {
      "text/plain": [
       "array([3.91374890e-04, 8.54324048e-01])"
      ]
     },
     "execution_count": 41,
     "metadata": {},
     "output_type": "execute_result"
    }
   ],
   "source": [
    "#Mapping the results#################\n",
    "fitting=df[(df['cycle']>l_train)]\n",
    "fitting=fitting['capacity']\n",
    "abc=np.array(fitting)\n",
    "## abc == Capacity\n",
    "fitting=fitting.values\n",
    "#test=per\n",
    "cap=np.array(pred)\n",
    "li=[]\n",
    "z=np.polyfit(cap,abc,1)\n",
    "z"
   ]
  },
  {
   "cell_type": "code",
   "execution_count": 42,
   "metadata": {},
   "outputs": [
    {
     "name": "stdout",
     "output_type": "stream",
     "text": [
      "60\n",
      "Test MAE: 0.018\n",
      "Test RMSE: 0.023\n",
      "R^2 = 0.670\n"
     ]
    },
    {
     "name": "stderr",
     "output_type": "stream",
     "text": [
      "C:\\Users\\user\\AppData\\Local\\Temp\\ipykernel_19280\\2521616887.py:7: SettingWithCopyWarning: \n",
      "A value is trying to be set on a copy of a slice from a DataFrame.\n",
      "Try using .loc[row_indexer,col_indexer] = value instead\n",
      "\n",
      "See the caveats in the documentation: https://pandas.pydata.org/pandas-docs/stable/user_guide/indexing.html#returning-a-view-versus-a-copy\n",
      "  tests['Perdict']=li\n"
     ]
    }
   ],
   "source": [
    "li=[]\n",
    "for i in range(len(abc)):\n",
    "    xx=(cap[i] *4.40230567e-04) + 7.89334660e-01\n",
    "    li.append(xx)\n",
    "print(len(li))\n",
    "tests=df[(df['cycle']>l_train)]\n",
    "tests['Perdict']=li\n",
    "#per=test\n",
    "#per['per']=li\n",
    "###############################\n",
    "\n",
    "rmse = np.sqrt(mean_squared_error(tests['capacity'],tests['Perdict']))\n",
    "mae = (mean_absolute_error(tests['capacity'],tests['Perdict']))\n",
    "R2 = (metrics.r2_score(tests['capacity'],tests['Perdict']))\n",
    "print('Test MAE: %.3f' % mae)\n",
    "print('Test RMSE: %.3f' % rmse)\n",
    "\n",
    "print(\"R^2 = %.3f\" % R2 )"
   ]
  },
  {
   "cell_type": "code",
   "execution_count": 47,
   "metadata": {},
   "outputs": [
    {
     "name": "stderr",
     "output_type": "stream",
     "text": [
      "C:\\Users\\user\\AppData\\Local\\Temp\\ipykernel_19280\\992325367.py:5: SettingWithCopyWarning: \n",
      "A value is trying to be set on a copy of a slice from a DataFrame.\n",
      "Try using .loc[row_indexer,col_indexer] = value instead\n",
      "\n",
      "See the caveats in the documentation: https://pandas.pydata.org/pandas-docs/stable/user_guide/indexing.html#returning-a-view-versus-a-copy\n",
      "  test['pre']=pred\n"
     ]
    }
   ],
   "source": [
    "%matplotlib qt\n",
    "ln = len(train)\n",
    "k = ln+1\n",
    "sns.set_style(\"white\")\n",
    "test['pre']=pred\n",
    "plot_df = df.loc[(df['cycle']>=1),['cycle','capacity']]\n",
    "plot_per = tests.loc[(tests['cycle']>=ln),['cycle','Perdict']]\n",
    "plt.figure(figsize=(10, 5))\n",
    "plt.plot(plot_df['cycle'], plot_df['capacity'], label=\"Aktual\", color='black')\n",
    "plt.plot(plot_per['cycle'],plot_per['Perdict'],label=\"Prediksi\", color='red')\n",
    "#Draw threshold\n",
    "plt.plot([0.,140], [1.4, 1.4], label=\"EOL\", color = 'blue')\n",
    "plt.plot([len(train)+1,len(train)+1], [1.9, 1.3], label=\"Starting Point\", color = 'orange', linestyle='dashed')\n",
    "plt.ylabel('Kapasitas', fontsize=16)\n",
    "# make x-axis ticks legible\n",
    "adf = plt.gca().get_xaxis().get_major_formatter()\n",
    "plt.xlabel('Siklus', family='serif',fontsize=16)\n",
    "plt.legend()\n",
    "plt.title('Prediksi Degradasi Baterai B0018 Mulai Siklus ke-%.0f' % k, family='serif',fontsize=20)\n",
    "plt.rc('xtick', labelsize=15) \n",
    "plt.rc('ytick', labelsize=15) "
   ]
  },
  {
   "cell_type": "code",
   "execution_count": 45,
   "metadata": {},
   "outputs": [
    {
     "name": "stdout",
     "output_type": "stream",
     "text": [
      "RUL Actual Battery: 25\n",
      "RUL Predicted Battery: 27\n",
      "The Actual fail at cycle number: 97\n",
      "The prediction fail at cycle number: 99\n",
      "The error of RUL= 2 Cycle(s)\n"
     ]
    }
   ],
   "source": [
    "actual=0\n",
    "pred=0\n",
    "Afil=0\n",
    "Pfil=0\n",
    "a=tests['capacity'].values\n",
    "b=tests['Perdict'].values\n",
    "j=0\n",
    "k=0\n",
    "for i in range(len(a)):\n",
    "    actual=a[i]\n",
    "    \n",
    "    if actual<=1.4:\n",
    "        j=i\n",
    "        Afil=j\n",
    "        break\n",
    "for i in range(len(a)):\n",
    "    pred=b[i]\n",
    "    if pred<1.4:\n",
    "        k=i\n",
    "        Pfil=k\n",
    "        break\n",
    "print(\"RUL Actual Battery: \"+ str(Afil+1))\n",
    "print(\"RUL Predicted Battery: \"+ str(Pfil+1))\n",
    "print(\"The Actual fail at cycle number: \"+ str(Afil+ln+1))\n",
    "print(\"The prediction fail at cycle number: \"+ str(Pfil+ln+1))\n",
    "RULerror=Pfil-Afil\n",
    "print(\"The error of RUL= \"+ str(RULerror)+ \" Cycle(s)\")"
   ]
  },
  {
   "cell_type": "code",
   "execution_count": 46,
   "metadata": {},
   "outputs": [
    {
     "name": "stdout",
     "output_type": "stream",
     "text": [
      "0.018\n",
      "0.023\n",
      "0.670\n",
      "2\n",
      "27.085\n"
     ]
    }
   ],
   "source": [
    "print('%.3f' % mae)\n",
    "print('%.3f' % rmse)\n",
    "print('%.3f' % R2 )\n",
    "print (RULerror)\n",
    "print('%.3f' % elapsed_time)"
   ]
  },
  {
   "cell_type": "code",
   "execution_count": null,
   "metadata": {},
   "outputs": [],
   "source": []
  }
 ],
 "metadata": {
  "colab": {
   "name": "AV Blogathon.ipynb",
   "provenance": []
  },
  "kernelspec": {
   "display_name": "Python 3 (ipykernel)",
   "language": "python",
   "name": "python3"
  },
  "language_info": {
   "codemirror_mode": {
    "name": "ipython",
    "version": 3
   },
   "file_extension": ".py",
   "mimetype": "text/x-python",
   "name": "python",
   "nbconvert_exporter": "python",
   "pygments_lexer": "ipython3",
   "version": "3.9.7"
  }
 },
 "nbformat": 4,
 "nbformat_minor": 1
}
