{
 "cells": [
  {
   "cell_type": "markdown",
   "metadata": {
    "id": "zs6BAr1Q7-fc"
   },
   "source": [
    "### Multivariate Multistep Time Series Forecasting using Stacked LSTM sequence to sequence Autoencoder in Tensorflow 2.0 / Keras "
   ]
  },
  {
   "cell_type": "code",
   "execution_count": 1,
   "metadata": {
    "id": "cgtE_Cnzhf7s"
   },
   "outputs": [],
   "source": [
    "import pandas as pd\n",
    "import numpy as np\n",
    "from sklearn.preprocessing import MinMaxScaler\n",
    "import matplotlib.pyplot as plt\n",
    "import tensorflow as tf\n",
    "import os\n",
    "\n",
    "#plotting and analysis library\n",
    "from sklearn.preprocessing import MinMaxScaler, StandardScaler\n",
    "from sklearn.metrics import mean_squared_error\n",
    "from sklearn.metrics import mean_absolute_error\n",
    "from sklearn import metrics\n",
    "import matplotlib.pyplot as plt\n",
    "import seaborn as sns\n",
    "import datetime\n",
    "import numpy as np\n",
    "import pandas as pd\n",
    "#model library\n",
    "import numpy as np\n",
    "from keras.models import Sequential\n",
    "from keras.layers import Dense\n",
    "from keras.layers import Flatten\n",
    "from keras.layers import LSTM, Input, Dropout\n",
    "from keras.layers import RepeatVector\n",
    "from keras.layers import TimeDistributed\n",
    "import tensorflow as tf\n",
    "from tensorflow import keras\n",
    "from tensorflow.keras.regularizers import L1L2\n",
    "import time\n",
    "from scipy.stats import spearmanr"
   ]
  },
  {
   "cell_type": "code",
   "execution_count": 2,
   "metadata": {},
   "outputs": [],
   "source": [
    "df=pd.read_csv(\"Discharge7_H1.csv\")\n",
    "attrib=['name','cycle','datetime','ambient_temp','capacity','voltage_measured','current_measured','temperature_measured','time','TIEDVD']\n",
    "param = ['TIEDVD']\n",
    "dataset_f=df[param]"
   ]
  },
  {
   "cell_type": "code",
   "execution_count": 3,
   "metadata": {},
   "outputs": [
    {
     "data": {
      "text/html": [
       "<div>\n",
       "<style scoped>\n",
       "    .dataframe tbody tr th:only-of-type {\n",
       "        vertical-align: middle;\n",
       "    }\n",
       "\n",
       "    .dataframe tbody tr th {\n",
       "        vertical-align: top;\n",
       "    }\n",
       "\n",
       "    .dataframe thead th {\n",
       "        text-align: right;\n",
       "    }\n",
       "</style>\n",
       "<table border=\"1\" class=\"dataframe\">\n",
       "  <thead>\n",
       "    <tr style=\"text-align: right;\">\n",
       "      <th></th>\n",
       "      <th>cycle</th>\n",
       "      <th>ambient_temp</th>\n",
       "      <th>capacity</th>\n",
       "      <th>voltage_measured</th>\n",
       "      <th>current_measured</th>\n",
       "      <th>temperature_measured</th>\n",
       "      <th>time</th>\n",
       "      <th>TIEDVD</th>\n",
       "    </tr>\n",
       "  </thead>\n",
       "  <tbody>\n",
       "    <tr>\n",
       "      <th>count</th>\n",
       "      <td>168.000000</td>\n",
       "      <td>168.0</td>\n",
       "      <td>168.000000</td>\n",
       "      <td>168.000000</td>\n",
       "      <td>168.000000</td>\n",
       "      <td>168.000000</td>\n",
       "      <td>168.000000</td>\n",
       "      <td>168.000000</td>\n",
       "    </tr>\n",
       "    <tr>\n",
       "      <th>mean</th>\n",
       "      <td>84.500000</td>\n",
       "      <td>24.0</td>\n",
       "      <td>1.644421</td>\n",
       "      <td>3.040739</td>\n",
       "      <td>-0.345021</td>\n",
       "      <td>39.149155</td>\n",
       "      <td>3129.523887</td>\n",
       "      <td>1961.174333</td>\n",
       "    </tr>\n",
       "    <tr>\n",
       "      <th>std</th>\n",
       "      <td>48.641546</td>\n",
       "      <td>0.0</td>\n",
       "      <td>0.160950</td>\n",
       "      <td>0.470270</td>\n",
       "      <td>0.752762</td>\n",
       "      <td>0.763337</td>\n",
       "      <td>246.654499</td>\n",
       "      <td>337.109465</td>\n",
       "    </tr>\n",
       "    <tr>\n",
       "      <th>min</th>\n",
       "      <td>1.000000</td>\n",
       "      <td>24.0</td>\n",
       "      <td>1.400455</td>\n",
       "      <td>1.813269</td>\n",
       "      <td>-1.990881</td>\n",
       "      <td>36.680603</td>\n",
       "      <td>2792.485000</td>\n",
       "      <td>1433.016000</td>\n",
       "    </tr>\n",
       "    <tr>\n",
       "      <th>25%</th>\n",
       "      <td>42.750000</td>\n",
       "      <td>24.0</td>\n",
       "      <td>1.498058</td>\n",
       "      <td>2.971141</td>\n",
       "      <td>-0.004506</td>\n",
       "      <td>38.660578</td>\n",
       "      <td>2901.343750</td>\n",
       "      <td>1658.168000</td>\n",
       "    </tr>\n",
       "    <tr>\n",
       "      <th>50%</th>\n",
       "      <td>84.500000</td>\n",
       "      <td>24.0</td>\n",
       "      <td>1.616125</td>\n",
       "      <td>3.278985</td>\n",
       "      <td>-0.002570</td>\n",
       "      <td>39.225007</td>\n",
       "      <td>3086.078000</td>\n",
       "      <td>1911.133000</td>\n",
       "    </tr>\n",
       "    <tr>\n",
       "      <th>75%</th>\n",
       "      <td>126.250000</td>\n",
       "      <td>24.0</td>\n",
       "      <td>1.812005</td>\n",
       "      <td>3.343130</td>\n",
       "      <td>-0.001238</td>\n",
       "      <td>39.636430</td>\n",
       "      <td>3323.230750</td>\n",
       "      <td>2316.163250</td>\n",
       "    </tr>\n",
       "    <tr>\n",
       "      <th>max</th>\n",
       "      <td>168.000000</td>\n",
       "      <td>24.0</td>\n",
       "      <td>1.891052</td>\n",
       "      <td>3.428899</td>\n",
       "      <td>0.002132</td>\n",
       "      <td>41.049942</td>\n",
       "      <td>3690.234000</td>\n",
       "      <td>2451.203000</td>\n",
       "    </tr>\n",
       "  </tbody>\n",
       "</table>\n",
       "</div>"
      ],
      "text/plain": [
       "            cycle  ambient_temp    capacity  voltage_measured  \\\n",
       "count  168.000000         168.0  168.000000        168.000000   \n",
       "mean    84.500000          24.0    1.644421          3.040739   \n",
       "std     48.641546           0.0    0.160950          0.470270   \n",
       "min      1.000000          24.0    1.400455          1.813269   \n",
       "25%     42.750000          24.0    1.498058          2.971141   \n",
       "50%     84.500000          24.0    1.616125          3.278985   \n",
       "75%    126.250000          24.0    1.812005          3.343130   \n",
       "max    168.000000          24.0    1.891052          3.428899   \n",
       "\n",
       "       current_measured  temperature_measured         time       TIEDVD  \n",
       "count        168.000000            168.000000   168.000000   168.000000  \n",
       "mean          -0.345021             39.149155  3129.523887  1961.174333  \n",
       "std            0.752762              0.763337   246.654499   337.109465  \n",
       "min           -1.990881             36.680603  2792.485000  1433.016000  \n",
       "25%           -0.004506             38.660578  2901.343750  1658.168000  \n",
       "50%           -0.002570             39.225007  3086.078000  1911.133000  \n",
       "75%           -0.001238             39.636430  3323.230750  2316.163250  \n",
       "max            0.002132             41.049942  3690.234000  2451.203000  "
      ]
     },
     "execution_count": 3,
     "metadata": {},
     "output_type": "execute_result"
    }
   ],
   "source": [
    "dataset_df = df[attrib]\n",
    "dataset_df.describe()"
   ]
  },
  {
   "cell_type": "code",
   "execution_count": 4,
   "metadata": {},
   "outputs": [
    {
     "name": "stdout",
     "output_type": "stream",
     "text": [
      "0.9967048152216279\n",
      "5.043363220384667e-183\n"
     ]
    }
   ],
   "source": [
    "spearman_df = df[['capacity', 'TIEDVD']]\n",
    "rho, p = spearmanr(spearman_df)\n",
    "print (rho)\n",
    "print(p)"
   ]
  },
  {
   "cell_type": "code",
   "execution_count": 5,
   "metadata": {
    "scrolled": true
   },
   "outputs": [
    {
     "data": {
      "text/html": [
       "<div>\n",
       "<style scoped>\n",
       "    .dataframe tbody tr th:only-of-type {\n",
       "        vertical-align: middle;\n",
       "    }\n",
       "\n",
       "    .dataframe tbody tr th {\n",
       "        vertical-align: top;\n",
       "    }\n",
       "\n",
       "    .dataframe thead th {\n",
       "        text-align: right;\n",
       "    }\n",
       "</style>\n",
       "<table border=\"1\" class=\"dataframe\">\n",
       "  <thead>\n",
       "    <tr style=\"text-align: right;\">\n",
       "      <th></th>\n",
       "      <th>cycle</th>\n",
       "      <th>ambient_temp</th>\n",
       "      <th>capacity</th>\n",
       "      <th>voltage_measured</th>\n",
       "      <th>current_measured</th>\n",
       "      <th>temperature_measured</th>\n",
       "      <th>time</th>\n",
       "      <th>TIEDVD</th>\n",
       "    </tr>\n",
       "  </thead>\n",
       "  <tbody>\n",
       "    <tr>\n",
       "      <th>cycle</th>\n",
       "      <td>1.00</td>\n",
       "      <td>NaN</td>\n",
       "      <td>-0.99</td>\n",
       "      <td>0.68</td>\n",
       "      <td>0.46</td>\n",
       "      <td>-0.00</td>\n",
       "      <td>-0.98</td>\n",
       "      <td>-0.99</td>\n",
       "    </tr>\n",
       "    <tr>\n",
       "      <th>ambient_temp</th>\n",
       "      <td>NaN</td>\n",
       "      <td>NaN</td>\n",
       "      <td>NaN</td>\n",
       "      <td>NaN</td>\n",
       "      <td>NaN</td>\n",
       "      <td>NaN</td>\n",
       "      <td>NaN</td>\n",
       "      <td>NaN</td>\n",
       "    </tr>\n",
       "    <tr>\n",
       "      <th>capacity</th>\n",
       "      <td>-0.99</td>\n",
       "      <td>NaN</td>\n",
       "      <td>1.00</td>\n",
       "      <td>-0.74</td>\n",
       "      <td>-0.52</td>\n",
       "      <td>-0.02</td>\n",
       "      <td>0.98</td>\n",
       "      <td>1.00</td>\n",
       "    </tr>\n",
       "    <tr>\n",
       "      <th>voltage_measured</th>\n",
       "      <td>0.68</td>\n",
       "      <td>NaN</td>\n",
       "      <td>-0.74</td>\n",
       "      <td>1.00</td>\n",
       "      <td>0.95</td>\n",
       "      <td>0.02</td>\n",
       "      <td>-0.65</td>\n",
       "      <td>-0.75</td>\n",
       "    </tr>\n",
       "    <tr>\n",
       "      <th>current_measured</th>\n",
       "      <td>0.46</td>\n",
       "      <td>NaN</td>\n",
       "      <td>-0.52</td>\n",
       "      <td>0.95</td>\n",
       "      <td>1.00</td>\n",
       "      <td>0.05</td>\n",
       "      <td>-0.42</td>\n",
       "      <td>-0.53</td>\n",
       "    </tr>\n",
       "    <tr>\n",
       "      <th>temperature_measured</th>\n",
       "      <td>-0.00</td>\n",
       "      <td>NaN</td>\n",
       "      <td>-0.02</td>\n",
       "      <td>0.02</td>\n",
       "      <td>0.05</td>\n",
       "      <td>1.00</td>\n",
       "      <td>-0.12</td>\n",
       "      <td>0.01</td>\n",
       "    </tr>\n",
       "    <tr>\n",
       "      <th>time</th>\n",
       "      <td>-0.98</td>\n",
       "      <td>NaN</td>\n",
       "      <td>0.98</td>\n",
       "      <td>-0.65</td>\n",
       "      <td>-0.42</td>\n",
       "      <td>-0.12</td>\n",
       "      <td>1.00</td>\n",
       "      <td>0.97</td>\n",
       "    </tr>\n",
       "    <tr>\n",
       "      <th>TIEDVD</th>\n",
       "      <td>-0.99</td>\n",
       "      <td>NaN</td>\n",
       "      <td>1.00</td>\n",
       "      <td>-0.75</td>\n",
       "      <td>-0.53</td>\n",
       "      <td>0.01</td>\n",
       "      <td>0.97</td>\n",
       "      <td>1.00</td>\n",
       "    </tr>\n",
       "  </tbody>\n",
       "</table>\n",
       "</div>"
      ],
      "text/plain": [
       "                      cycle  ambient_temp  capacity  voltage_measured  \\\n",
       "cycle                  1.00           NaN     -0.99              0.68   \n",
       "ambient_temp            NaN           NaN       NaN               NaN   \n",
       "capacity              -0.99           NaN      1.00             -0.74   \n",
       "voltage_measured       0.68           NaN     -0.74              1.00   \n",
       "current_measured       0.46           NaN     -0.52              0.95   \n",
       "temperature_measured  -0.00           NaN     -0.02              0.02   \n",
       "time                  -0.98           NaN      0.98             -0.65   \n",
       "TIEDVD                -0.99           NaN      1.00             -0.75   \n",
       "\n",
       "                      current_measured  temperature_measured  time  TIEDVD  \n",
       "cycle                             0.46                 -0.00 -0.98   -0.99  \n",
       "ambient_temp                       NaN                   NaN   NaN     NaN  \n",
       "capacity                         -0.52                 -0.02  0.98    1.00  \n",
       "voltage_measured                  0.95                  0.02 -0.65   -0.75  \n",
       "current_measured                  1.00                  0.05 -0.42   -0.53  \n",
       "temperature_measured              0.05                  1.00 -0.12    0.01  \n",
       "time                             -0.42                 -0.12  1.00    0.97  \n",
       "TIEDVD                           -0.53                  0.01  0.97    1.00  "
      ]
     },
     "execution_count": 5,
     "metadata": {},
     "output_type": "execute_result"
    }
   ],
   "source": [
    "corr = dataset_df.corr()\n",
    "round(corr,2)"
   ]
  },
  {
   "cell_type": "code",
   "execution_count": 6,
   "metadata": {},
   "outputs": [
    {
     "data": {
      "image/png": "[encoded data removed]",
      "text/plain": [
       "<Figure size 640x480 with 2 Axes>"
      ]
     },
     "metadata": {},
     "output_type": "display_data"
    }
   ],
   "source": [
    "sns.heatmap(corr, cbar=True, annot=True, square=True, fmt='.2f', annot_kws={'size': 8});"
   ]
  },
  {
   "cell_type": "code",
   "execution_count": 7,
   "metadata": {},
   "outputs": [
    {
     "name": "stdout",
     "output_type": "stream",
     "text": [
      "0.9967048152216279\n",
      "5.043363220384667e-183\n"
     ]
    }
   ],
   "source": [
    "spearman_df = dataset_df[['capacity', 'TIEDVD']]\n",
    "rho, p = spearmanr(spearman_df)\n",
    "print (rho)\n",
    "print(p)"
   ]
  },
  {
   "cell_type": "code",
   "execution_count": 8,
   "metadata": {},
   "outputs": [
    {
     "data": {
      "image/png": "[encoded data removed]",
      "text/plain": [
       "<Figure size 640x480 with 1 Axes>"
      ]
     },
     "metadata": {},
     "output_type": "display_data"
    }
   ],
   "source": [
    "plt.scatter(dataset_df[['capacity']], dataset_df[['TIEDVD']])\n",
    "plt.ylabel('TIEDVD')\n",
    "plt.xlabel('Capacity')\n",
    "plt.show()"
   ]
  },
  {
   "cell_type": "code",
   "execution_count": 9,
   "metadata": {},
   "outputs": [],
   "source": [
    "dataset_df = dataset_df.replace(to_replace=(1929.953), value=(2100))"
   ]
  },
  {
   "cell_type": "code",
   "execution_count": 10,
   "metadata": {},
   "outputs": [
    {
     "data": {
      "image/png": "[encoded data removed]",
      "text/plain": [
       "<Figure size 640x480 with 1 Axes>"
      ]
     },
     "metadata": {},
     "output_type": "display_data"
    }
   ],
   "source": [
    "plt.scatter(dataset_df[['capacity']], dataset_df[['TIEDVD']])\n",
    "plt.ylabel('TIEDVD')\n",
    "plt.xlabel('Capacity')\n",
    "plt.show()"
   ]
  },
  {
   "cell_type": "code",
   "execution_count": 11,
   "metadata": {},
   "outputs": [
    {
     "data": {
      "image/png": "[encoded data removed]",
      "text/plain": [
       "<Figure size 640x480 with 1 Axes>"
      ]
     },
     "metadata": {},
     "output_type": "display_data"
    }
   ],
   "source": [
    "plt.scatter(dataset_df[['cycle']], dataset_df[['capacity']])\n",
    "plt.ylabel('Capacity')\n",
    "plt.xlabel('cycle')\n",
    "plt.show()"
   ]
  },
  {
   "cell_type": "code",
   "execution_count": 12,
   "metadata": {},
   "outputs": [
    {
     "data": {
      "text/plain": [
       "Text(0.5, 1.0, 'Kurva Indirect Health Indicator Baterai B0007')"
      ]
     },
     "execution_count": 12,
     "metadata": {},
     "output_type": "execute_result"
    }
   ],
   "source": [
    "%matplotlib qt\n",
    "plot_df = df.loc[(df['cycle']>=1),['cycle','TIEDVD']]\n",
    "sns.set_style(\"white\")\n",
    "plt.figure(figsize=(10, 5))\n",
    "plt.plot(plot_df['cycle'], plot_df['TIEDVD'], label=\"Real data\", color='black')\n",
    "plt.ylabel('TIEDVD', family='serif',fontsize=16)\n",
    "# make x-axis ticks legible\n",
    "adf = plt.gca().get_xaxis().get_major_formatter()\n",
    "plt.xlabel('Siklus', family='serif',fontsize=16)\n",
    "plt.title('Kurva Indirect Health Indicator Baterai B0007', family='serif',fontsize=20)"
   ]
  },
  {
   "cell_type": "code",
   "execution_count": 13,
   "metadata": {},
   "outputs": [
    {
     "name": "stdout",
     "output_type": "stream",
     "text": [
      "[4.76662594e-04 7.09120486e-01]\n"
     ]
    }
   ],
   "source": [
    "datas_cap=dataset_df['capacity']\n",
    "datas_TIEDVD=dataset_df['TIEDVD']\n",
    "z=np.polyfit(datas_TIEDVD,datas_cap,1)\n",
    "print(z)"
   ]
  },
  {
   "cell_type": "code",
   "execution_count": 14,
   "metadata": {},
   "outputs": [],
   "source": [
    "l1=[]\n",
    "for i in range(len(datas_TIEDVD)):\n",
    "    xx=(z[0] * datas_TIEDVD[i])+z[1]\n",
    "    l1.append(xx)\n",
    "df['fit']=l1"
   ]
  },
  {
   "cell_type": "code",
   "execution_count": 15,
   "metadata": {},
   "outputs": [
    {
     "data": {
      "text/plain": [
       "Text(0.5, 1.0, 'Mapping')"
      ]
     },
     "execution_count": 15,
     "metadata": {},
     "output_type": "execute_result"
    }
   ],
   "source": [
    "plot_df = df.loc[(df['cycle']>=1),['cycle','capacity']]\n",
    "plot_df1 = df.loc[(df['cycle']>=1),['cycle','fit']]\n",
    "\n",
    "\n",
    "sns.set_style(\"white\")\n",
    "plt.figure(figsize=(10, 5))\n",
    "plt.plot(plot_df['cycle'], plot_df['capacity'],color='red')\n",
    "plt.plot(plot_df1['cycle'], plot_df1['fit'],'-',color='blue')\n",
    "\n",
    "plt.ylabel('Capacity', family='serif', fontsize=16)\n",
    "plt.rc('xtick', labelsize=14) \n",
    "plt.rc('ytick', labelsize=14) \n",
    "# make x-axis ticks legible\n",
    "adf = plt.gca().get_xaxis().get_major_formatter()\n",
    "#adf.scaled[1.0] = '%m-%d-%Y'\n",
    "plt.xlabel('Cycle',family='serif', fontsize=16)\n",
    "plt.title('Mapping',family='serif', fontsize=20)"
   ]
  },
  {
   "cell_type": "code",
   "execution_count": 16,
   "metadata": {},
   "outputs": [
    {
     "data": {
      "text/plain": [
       "Text(0.5, 1.0, 'Degradasi Baterai B0007')"
      ]
     },
     "execution_count": 16,
     "metadata": {},
     "output_type": "execute_result"
    }
   ],
   "source": [
    "plot_df = df.loc[(df['cycle']>=1),['cycle','capacity']]\n",
    "sns.set_style(\"white\")\n",
    "plt.figure(figsize=(10, 5))\n",
    "plt.plot(plot_df['cycle'], plot_df['capacity'], label=\"Real data\", color='black')\n",
    "plt.rc('xtick', labelsize=14) \n",
    "plt.rc('ytick', labelsize=14) \n",
    "#Draw threshold\n",
    "plt.plot([0.,168], [1.4, 1.4], color='red')\n",
    "plt.ylabel('Kapasitas',family='serif',fontsize=16)\n",
    "# make x-axis ticks legible\n",
    "adf = plt.gca().get_xaxis().get_major_formatter()\n",
    "plt.xlabel('Siklus', family='serif',fontsize=16)\n",
    "plt.title('Degradasi Baterai B0007',family='serif', fontsize=20)"
   ]
  },
  {
   "cell_type": "code",
   "execution_count": 17,
   "metadata": {
    "id": "95DRaJDAiAzj"
   },
   "outputs": [],
   "source": [
    "# For this case, let's assume that\n",
    "# Given past 10 days observation, forecast the next 5 days observations. \n",
    "n_past = 5\n",
    "n_future = 1 \n",
    "n_features = 1"
   ]
  },
  {
   "cell_type": "markdown",
   "metadata": {
    "id": "2KGQDB93mjqy"
   },
   "source": [
    "Train - Test Split"
   ]
  },
  {
   "cell_type": "code",
   "execution_count": 18,
   "metadata": {
    "colab": {
     "base_uri": "https://localhost:8080/",
     "height": 34
    },
    "id": "2iHDBSbu8tVu",
    "outputId": "2bb457d0-2bf2-49f6-8a60-20dd8376359e"
   },
   "outputs": [
    {
     "data": {
      "text/plain": [
       "((84, 1), (84, 1))"
      ]
     },
     "execution_count": 18,
     "metadata": {},
     "output_type": "execute_result"
    }
   ],
   "source": [
    "l_train =84\n",
    "train_df,test_df = dataset_f[0:l_train], dataset_f[l_train:]  # 50% and 50%\n",
    "train_df.shape,test_df.shape"
   ]
  },
  {
   "cell_type": "markdown",
   "metadata": {
    "id": "lk2FYkUcmtDc"
   },
   "source": [
    "Scaling the values for faster training of the models."
   ]
  },
  {
   "cell_type": "code",
   "execution_count": 19,
   "metadata": {
    "colab": {
     "base_uri": "https://localhost:8080/",
     "height": 1000
    },
    "id": "cIVnPiBaB9pG",
    "outputId": "acdaad3d-4f60-4c62-a62c-3f4e41f70685"
   },
   "outputs": [
    {
     "name": "stderr",
     "output_type": "stream",
     "text": [
      "C:\\Users\\user\\AppData\\Local\\Temp\\ipykernel_21744\\3260478294.py:9: SettingWithCopyWarning: \n",
      "A value is trying to be set on a copy of a slice from a DataFrame.\n",
      "Try using .loc[row_indexer,col_indexer] = value instead\n",
      "\n",
      "See the caveats in the documentation: https://pandas.pydata.org/pandas-docs/stable/user_guide/indexing.html#returning-a-view-versus-a-copy\n",
      "  train[i]=s_s\n",
      "C:\\Users\\user\\AppData\\Local\\Temp\\ipykernel_21744\\3260478294.py:17: SettingWithCopyWarning: \n",
      "A value is trying to be set on a copy of a slice from a DataFrame.\n",
      "Try using .loc[row_indexer,col_indexer] = value instead\n",
      "\n",
      "See the caveats in the documentation: https://pandas.pydata.org/pandas-docs/stable/user_guide/indexing.html#returning-a-view-versus-a-copy\n",
      "  test[i]=s_s\n"
     ]
    }
   ],
   "source": [
    "train = train_df\n",
    "scalers={}\n",
    "\n",
    "for i in train_df.columns:\n",
    "    scaler = MinMaxScaler(feature_range=(-1,1))\n",
    "    s_s = scaler.fit_transform(train[i].values.reshape(-1,1))\n",
    "    s_s=np.reshape(s_s,len(s_s))\n",
    "    scalers['scaler_'+ i] = scaler\n",
    "    train[i]=s_s\n",
    "\n",
    "test = test_df\n",
    "for i in train_df.columns:\n",
    "    scaler = scalers['scaler_'+i]\n",
    "    s_s = scaler.transform(test[i].values.reshape(-1,1))\n",
    "    s_s=np.reshape(s_s,len(s_s))\n",
    "    scalers['scaler_'+i] = scaler\n",
    "    test[i]=s_s"
   ]
  },
  {
   "cell_type": "markdown",
   "metadata": {
    "id": "OqWTUZGHm1tm"
   },
   "source": [
    "**Converting the series to samples for supervised learning**"
   ]
  },
  {
   "cell_type": "code",
   "execution_count": 20,
   "metadata": {
    "id": "6axUcusZhvzK"
   },
   "outputs": [],
   "source": [
    "def split_series(series, n_past, n_future):\n",
    "  #\n",
    "  # n_past ==> no of past observations\n",
    "  #\n",
    "  # n_future ==> no of future observations \n",
    "  #\n",
    "  X, y = list(), list()\n",
    "  for window_start in range(len(series)):\n",
    "    past_end = window_start + n_past\n",
    "    future_end = past_end + n_future\n",
    "    if future_end > len(series):\n",
    "      break\n",
    "    # slicing the past and future parts of the window\n",
    "    past, future = series[window_start:past_end, :], series[past_end:future_end, :]\n",
    "    X.append(past)\n",
    "    y.append(future)\n",
    "  return np.array(X), np.array(y)"
   ]
  },
  {
   "cell_type": "code",
   "execution_count": 21,
   "metadata": {
    "id": "BOHlFWgVidl_"
   },
   "outputs": [],
   "source": [
    "X_train, y_train = split_series(train.values,n_past, n_future)\n",
    "X_train = X_train.reshape((X_train.shape[0], X_train.shape[1],n_features))\n",
    "y_train = y_train.reshape((y_train.shape[0], y_train.shape[1], n_features))\n",
    "\n",
    "X_test, y_test = split_series(test.values,n_past, n_future)\n",
    "X_test = X_test.reshape((X_test.shape[0], X_test.shape[1],n_features))\n",
    "y_test = y_test.reshape((y_test.shape[0], y_test.shape[1], n_features))"
   ]
  },
  {
   "cell_type": "markdown",
   "metadata": {
    "id": "X2rRUBjbnJij"
   },
   "source": [
    "**Model Architecture**\n",
    "\n",
    "E2D2 ==> Sequence to Sequence Model with two encoder layers and two decoder layers. "
   ]
  },
  {
   "cell_type": "code",
   "execution_count": 22,
   "metadata": {
    "colab": {
     "base_uri": "https://localhost:8080/",
     "height": 474
    },
    "id": "ze7iac48h1JV",
    "outputId": "0bd65cde-5030-43bc-8904-2f4cef396158"
   },
   "outputs": [
    {
     "name": "stdout",
     "output_type": "stream",
     "text": [
      "Model: \"model\"\n",
      "__________________________________________________________________________________________________\n",
      " Layer (type)                   Output Shape         Param #     Connected to                     \n",
      "==================================================================================================\n",
      " input_1 (InputLayer)           [(None, 5, 1)]       0           []                               \n",
      "                                                                                                  \n",
      " lstm (LSTM)                    [(None, 5, 300),     362400      ['input_1[0][0]']                \n",
      "                                 (None, 300),                                                     \n",
      "                                 (None, 300)]                                                     \n",
      "                                                                                                  \n",
      " lstm_1 (LSTM)                  [(None, 300),        721200      ['lstm[0][0]']                   \n",
      "                                 (None, 300),                                                     \n",
      "                                 (None, 300)]                                                     \n",
      "                                                                                                  \n",
      " repeat_vector (RepeatVector)   (None, 1, 300)       0           ['lstm_1[0][0]']                 \n",
      "                                                                                                  \n",
      " lstm_2 (LSTM)                  (None, 1, 300)       721200      ['repeat_vector[0][0]',          \n",
      "                                                                  'lstm[0][1]',                   \n",
      "                                                                  'lstm[0][2]']                   \n",
      "                                                                                                  \n",
      " lstm_3 (LSTM)                  (None, 1, 300)       721200      ['lstm_2[0][0]',                 \n",
      "                                                                  'lstm_1[0][1]',                 \n",
      "                                                                  'lstm_1[0][2]']                 \n",
      "                                                                                                  \n",
      " time_distributed (TimeDistribu  (None, 1, 1)        301         ['lstm_3[0][0]']                 \n",
      " ted)                                                                                             \n",
      "                                                                                                  \n",
      "==================================================================================================\n",
      "Total params: 2,526,301\n",
      "Trainable params: 2,526,301\n",
      "Non-trainable params: 0\n",
      "__________________________________________________________________________________________________\n"
     ]
    }
   ],
   "source": [
    "# E2D2\n",
    "# n_features ==> no of features at each timestep in the data.\n",
    "#\n",
    "encoder_inputs = tf.keras.layers.Input(shape=(n_past, n_features))\n",
    "encoder_l1 = tf.keras.layers.LSTM(300,return_sequences = True, return_state=True)\n",
    "encoder_outputs1 = encoder_l1(encoder_inputs)\n",
    "encoder_states1 = encoder_outputs1[1:]\n",
    "encoder_l2 = tf.keras.layers.LSTM(300, return_state=True)\n",
    "encoder_outputs2 = encoder_l2(encoder_outputs1[0])\n",
    "encoder_states2 = encoder_outputs2[1:]\n",
    "#\n",
    "decoder_inputs = tf.keras.layers.RepeatVector(n_future)(encoder_outputs2[0])\n",
    "#\n",
    "decoder_l1 = tf.keras.layers.LSTM(300, return_sequences=True)(decoder_inputs,initial_state = encoder_states1)\n",
    "decoder_l2 = tf.keras.layers.LSTM(300, return_sequences=True)(decoder_l1,initial_state = encoder_states2)\n",
    "decoder_outputs2 = tf.keras.layers.TimeDistributed(tf.keras.layers.Dense(n_features))(decoder_l2)\n",
    "#\n",
    "model_e2d2 = tf.keras.models.Model(encoder_inputs,decoder_outputs2)\n",
    "#\n",
    "model_e2d2.summary()"
   ]
  },
  {
   "cell_type": "markdown",
   "metadata": {
    "id": "1Q0prbvcnq6W"
   },
   "source": [
    " **Training the models**\n"
   ]
  },
  {
   "cell_type": "code",
   "execution_count": 23,
   "metadata": {
    "id": "L4Ee4kb5HuzM"
   },
   "outputs": [],
   "source": [
    "st = time.time()\n",
    "reduce_lr = tf.keras.callbacks.LearningRateScheduler(lambda x: 1e-3 * 0.90 ** x)\n",
    "\n",
    "model_e2d2.compile(optimizer=tf.keras.optimizers.Adam(), loss=tf.keras.losses.Huber())\n",
    "history_e2d2=model_e2d2.fit(X_train,y_train,epochs=100,validation_data=(X_test,y_test),batch_size=32,callbacks=[reduce_lr], verbose =0)"
   ]
  },
  {
   "cell_type": "code",
   "execution_count": 24,
   "metadata": {},
   "outputs": [
    {
     "name": "stdout",
     "output_type": "stream",
     "text": [
      "Execution time: 18.600 seconds\n"
     ]
    }
   ],
   "source": [
    "et = time.time()\n",
    "elapsed_time = et - st\n",
    "print('Execution time: %.3f'% elapsed_time, 'seconds')"
   ]
  },
  {
   "cell_type": "code",
   "execution_count": 25,
   "metadata": {
    "colab": {
     "base_uri": "https://localhost:8080/",
     "height": 295
    },
    "id": "At-5JNsJI2lJ",
    "outputId": "ed265658-c8c8-459e-9702-d243cc944282"
   },
   "outputs": [],
   "source": [
    "plt.plot(history_e2d2.history['loss'])\n",
    "plt.plot(history_e2d2.history['val_loss'])\n",
    "plt.title(\"Model Loss\")\n",
    "plt.xlabel('Epochs')\n",
    "plt.ylabel('Loss')\n",
    "plt.legend(['Train', 'Valid'])\n",
    "plt.show()"
   ]
  },
  {
   "cell_type": "markdown",
   "metadata": {
    "id": "QisYSkLCoJuC"
   },
   "source": [
    "Prediction on validation set"
   ]
  },
  {
   "cell_type": "code",
   "execution_count": 26,
   "metadata": {},
   "outputs": [],
   "source": [
    "data_total=pd.concat((train,test),axis=0)\n",
    "inputs=data_total[len(data_total)-len(test)-n_past:].values"
   ]
  },
  {
   "cell_type": "code",
   "execution_count": 27,
   "metadata": {},
   "outputs": [],
   "source": [
    "X_test=[]\n",
    "for i in range(n_past,len(inputs)):\n",
    "    X_test.append(inputs[i-n_past:i,0])\n",
    "X_test=np.array(X_test)\n",
    "X_test=np.reshape(X_test,(X_test.shape[0],X_test.shape[1],1))"
   ]
  },
  {
   "cell_type": "code",
   "execution_count": 28,
   "metadata": {
    "id": "TeRz6saSJASa"
   },
   "outputs": [],
   "source": [
    "pred=model_e2d2.predict(X_test)\n",
    "for index,i in enumerate(test_df.columns):\n",
    "    scaler = scalers['scaler_'+i]\n",
    "   \n",
    "    pred[:,:,index]=scaler.inverse_transform(pred[:,:,index])\n",
    "pred=pred.reshape(len(X_test),-1)\n",
    "pred=pred[:,0]"
   ]
  },
  {
   "cell_type": "code",
   "execution_count": 29,
   "metadata": {},
   "outputs": [
    {
     "data": {
      "text/plain": [
       "array([4.97404029e-04, 6.76945150e-01])"
      ]
     },
     "execution_count": 29,
     "metadata": {},
     "output_type": "execute_result"
    }
   ],
   "source": [
    "#Mapping the results#################\n",
    "fitting=df[(df['cycle']>l_train)]\n",
    "fitting=fitting['capacity']\n",
    "abc=np.array(fitting)\n",
    "## abc == Capacity\n",
    "fitting=fitting.values\n",
    "#test=per\n",
    "cap=np.array(pred)\n",
    "li=[]\n",
    "z=np.polyfit(cap,abc,1)\n",
    "z"
   ]
  },
  {
   "cell_type": "code",
   "execution_count": 30,
   "metadata": {},
   "outputs": [
    {
     "name": "stdout",
     "output_type": "stream",
     "text": [
      "84\n",
      "Test MAE: 0.009\n",
      "Test RMSE: 0.016\n",
      "R^2 = 0.937\n"
     ]
    },
    {
     "name": "stderr",
     "output_type": "stream",
     "text": [
      "C:\\Users\\user\\AppData\\Local\\Temp\\ipykernel_21744\\3361778310.py:7: SettingWithCopyWarning: \n",
      "A value is trying to be set on a copy of a slice from a DataFrame.\n",
      "Try using .loc[row_indexer,col_indexer] = value instead\n",
      "\n",
      "See the caveats in the documentation: https://pandas.pydata.org/pandas-docs/stable/user_guide/indexing.html#returning-a-view-versus-a-copy\n",
      "  tests['Perdict']=li\n"
     ]
    }
   ],
   "source": [
    "li=[]\n",
    "for i in range(len(abc)):\n",
    "    xx=(cap[i] *4.76662594e-04) + 7.09120486e-01\n",
    "    li.append(xx)\n",
    "print(len(li))\n",
    "tests=df[(df['cycle']>l_train)]\n",
    "tests['Perdict']=li\n",
    "#per=test\n",
    "#per['per']=li\n",
    "###############################\n",
    "\n",
    "rmse = np.sqrt(mean_squared_error(tests['capacity'],tests['Perdict']))\n",
    "mae = (mean_absolute_error(tests['capacity'],tests['Perdict']))\n",
    "R2 = (metrics.r2_score(tests['capacity'],tests['Perdict']))\n",
    "print('Test MAE: %.3f' % mae)\n",
    "print('Test RMSE: %.3f' % rmse)\n",
    "\n",
    "print(\"R^2 = %.3f\" % R2 )"
   ]
  },
  {
   "cell_type": "code",
   "execution_count": 31,
   "metadata": {},
   "outputs": [
    {
     "name": "stderr",
     "output_type": "stream",
     "text": [
      "C:\\Users\\user\\AppData\\Local\\Temp\\ipykernel_21744\\683406163.py:5: SettingWithCopyWarning: \n",
      "A value is trying to be set on a copy of a slice from a DataFrame.\n",
      "Try using .loc[row_indexer,col_indexer] = value instead\n",
      "\n",
      "See the caveats in the documentation: https://pandas.pydata.org/pandas-docs/stable/user_guide/indexing.html#returning-a-view-versus-a-copy\n",
      "  test['pre']=pred\n"
     ]
    }
   ],
   "source": [
    "%matplotlib qt\n",
    "ln = len(train)\n",
    "k = ln+1\n",
    "sns.set_style(\"white\")\n",
    "test['pre']=pred\n",
    "plot_df = df.loc[(df['cycle']>=1),['cycle','capacity']]\n",
    "plot_per = tests.loc[(tests['cycle']>=ln),['cycle','Perdict']]\n",
    "plt.figure(figsize=(10, 5))\n",
    "plt.plot(plot_df['cycle'], plot_df['capacity'], label=\"Aktual\", color='black')\n",
    "plt.plot(plot_per['cycle'],plot_per['Perdict'],label=\"Prediksi\", color='red')\n",
    "#Draw threshold\n",
    "plt.plot([0.,168], [1.45, 1.45], label=\"EOL\", color = 'blue')\n",
    "plt.plot([k,k], [1.9, 1.38], label=\"Starting Point\", color = 'orange', linestyle='dashed')\n",
    "plt.ylabel('Kapasitas', fontsize=16)\n",
    "# make x-axis ticks legible\n",
    "adf = plt.gca().get_xaxis().get_major_formatter()\n",
    "plt.xlabel('Siklus', family='serif',fontsize=16)\n",
    "plt.legend()\n",
    "plt.title('Prediksi Degradasi Baterai B0007 Mulai Siklus ke-%.0f' % k, family='serif',fontsize=20)\n",
    "plt.rc('xtick', labelsize=15) \n",
    "plt.rc('ytick', labelsize=15) "
   ]
  },
  {
   "cell_type": "code",
   "execution_count": 32,
   "metadata": {},
   "outputs": [
    {
     "name": "stdout",
     "output_type": "stream",
     "text": [
      "RUL Actual Battery: 60\n",
      "RUL Predicted Battery: 61\n",
      "The Actual fail at cycle number: 144\n",
      "The prediction fail at cycle number: 145\n",
      "The error of RUL= 1 Cycle(s)\n"
     ]
    }
   ],
   "source": [
    "actual=0\n",
    "pred=0\n",
    "Afil=0\n",
    "Pfil=0\n",
    "a=tests['capacity'].values\n",
    "b=tests['Perdict'].values\n",
    "j=0\n",
    "k=0\n",
    "for i in range(len(a)):\n",
    "    actual=a[i]\n",
    "    \n",
    "    if actual<=1.45:\n",
    "        j=i\n",
    "        Afil=j\n",
    "        break\n",
    "for i in range(len(a)):\n",
    "    pred=b[i]\n",
    "    if pred<1.45:\n",
    "        k=i\n",
    "        Pfil=k\n",
    "        break\n",
    "print(\"RUL Actual Battery: \"+ str(Afil+1))\n",
    "print(\"RUL Predicted Battery: \"+ str(Pfil+1))\n",
    "print(\"The Actual fail at cycle number: \"+ str(Afil+ln+1))\n",
    "print(\"The prediction fail at cycle number: \"+ str(Pfil+ln+1))\n",
    "RULerror=Pfil-Afil\n",
    "print(\"The error of RUL= \"+ str(RULerror)+ \" Cycle(s)\")"
   ]
  },
  {
   "cell_type": "code",
   "execution_count": 33,
   "metadata": {},
   "outputs": [
    {
     "name": "stdout",
     "output_type": "stream",
     "text": [
      "0.009\n",
      "0.016\n",
      "0.937\n",
      "1\n",
      "18.600\n"
     ]
    }
   ],
   "source": [
    "print('%.3f' % mae)\n",
    "print('%.3f' % rmse)\n",
    "print('%.3f' % R2 )\n",
    "print (RULerror)\n",
    "print('%.3f' % elapsed_time)"
   ]
  },
  {
   "cell_type": "code",
   "execution_count": null,
   "metadata": {},
   "outputs": [],
   "source": []
  }
 ],
 "metadata": {
  "colab": {
   "name": "AV Blogathon.ipynb",
   "provenance": []
  },
  "kernelspec": {
   "display_name": "Python 3 (ipykernel)",
   "language": "python",
   "name": "python3"
  },
  "language_info": {
   "codemirror_mode": {
    "name": "ipython",
    "version": 3
   },
   "file_extension": ".py",
   "mimetype": "text/x-python",
   "name": "python",
   "nbconvert_exporter": "python",
   "pygments_lexer": "ipython3",
   "version": "3.9.7"
  }
 },
 "nbformat": 4,
 "nbformat_minor": 1
}
